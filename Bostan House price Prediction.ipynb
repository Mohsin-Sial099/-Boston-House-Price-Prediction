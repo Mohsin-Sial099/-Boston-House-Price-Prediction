{
 "cells": [
  {
   "cell_type": "code",
   "execution_count": 1,
   "id": "d40fa6c6",
   "metadata": {
    "_cell_guid": "b1076dfc-b9ad-4769-8c92-a6c4dae69d19",
    "_uuid": "8f2839f25d086af736a60e9eeb907d3b93b6e0e5",
    "execution": {
     "iopub.execute_input": "2024-03-14T17:55:16.084780Z",
     "iopub.status.busy": "2024-03-14T17:55:16.083904Z",
     "iopub.status.idle": "2024-03-14T17:55:16.938733Z",
     "shell.execute_reply": "2024-03-14T17:55:16.937595Z"
    },
    "papermill": {
     "duration": 0.864719,
     "end_time": "2024-03-14T17:55:16.941028",
     "exception": false,
     "start_time": "2024-03-14T17:55:16.076309",
     "status": "completed"
    },
    "tags": []
   },
   "outputs": [
    {
     "name": "stdout",
     "output_type": "stream",
     "text": [
      "/kaggle/input/boston-house-prices/housing.csv\n"
     ]
    }
   ],
   "source": [
    "# This Python 3 environment comes with many helpful analytics libraries installed\n",
    "# It is defined by the kaggle/python Docker image: https://github.com/kaggle/docker-python\n",
    "# For example, here's several helpful packages to load\n",
    "\n",
    "import numpy as np # linear algebra\n",
    "import pandas as pd # data processing, CSV file I/O (e.g. pd.read_csv)\n",
    "\n",
    "# Input data files are available in the read-only \"../input/\" directory\n",
    "# For example, running this (by clicking run or pressing Shift+Enter) will list all files under the input directory\n",
    "\n",
    "import os\n",
    "for dirname, _, filenames in os.walk('/kaggle/input'):\n",
    "    for filename in filenames:\n",
    "        print(os.path.join(dirname, filename))\n",
    "\n",
    "# You can write up to 20GB to the current directory (/kaggle/working/) that gets preserved as output when you create a version using \"Save & Run All\" \n",
    "# You can also write temporary files to /kaggle/temp/, but they won't be saved outside of the current session"
   ]
  },
  {
   "cell_type": "code",
   "execution_count": 2,
   "id": "74e1c50e",
   "metadata": {
    "execution": {
     "iopub.execute_input": "2024-03-14T17:55:16.952116Z",
     "iopub.status.busy": "2024-03-14T17:55:16.951410Z",
     "iopub.status.idle": "2024-03-14T17:55:16.983693Z",
     "shell.execute_reply": "2024-03-14T17:55:16.982585Z"
    },
    "papermill": {
     "duration": 0.041938,
     "end_time": "2024-03-14T17:55:16.987541",
     "exception": false,
     "start_time": "2024-03-14T17:55:16.945603",
     "status": "completed"
    },
    "tags": []
   },
   "outputs": [
    {
     "name": "stdout",
     "output_type": "stream",
     "text": [
      "      CRIM    ZN  INDUS  CHAS    NOX     RM   AGE     DIS  RAD    TAX  \\\n",
      "0  0.00632  18.0   2.31     0  0.538  6.575  65.2  4.0900    1  296.0   \n",
      "1  0.02731   0.0   7.07     0  0.469  6.421  78.9  4.9671    2  242.0   \n",
      "2  0.02729   0.0   7.07     0  0.469  7.185  61.1  4.9671    2  242.0   \n",
      "3  0.03237   0.0   2.18     0  0.458  6.998  45.8  6.0622    3  222.0   \n",
      "4  0.06905   0.0   2.18     0  0.458  7.147  54.2  6.0622    3  222.0   \n",
      "\n",
      "   PTRATIO       B  LSTAT  MEDV  \n",
      "0     15.3  396.90   4.98  24.0  \n",
      "1     17.8  396.90   9.14  21.6  \n",
      "2     17.8  392.83   4.03  34.7  \n",
      "3     18.7  394.63   2.94  33.4  \n",
      "4     18.7  396.90   5.33  36.2  \n"
     ]
    },
    {
     "name": "stderr",
     "output_type": "stream",
     "text": [
      "/tmp/ipykernel_18/3592501331.py:3: FutureWarning: The 'delim_whitespace' keyword in pd.read_csv is deprecated and will be removed in a future version. Use ``sep='\\s+'`` instead\n",
      "  df = pd.read_csv(\"/kaggle/input/boston-house-prices/housing.csv\", delim_whitespace=True, names = BHname)\n"
     ]
    }
   ],
   "source": [
    "BHname = ['CRIM', 'ZN', 'INDUS', 'CHAS', 'NOX', 'RM',\n",
    "          'AGE', 'DIS', 'RAD', 'TAX', 'PTRATIO', 'B', 'LSTAT', 'MEDV']\n",
    "df = pd.read_csv(\"/kaggle/input/boston-house-prices/housing.csv\", delim_whitespace=True, names = BHname)\n",
    "print(df.head())"
   ]
  },
  {
   "cell_type": "code",
   "execution_count": 3,
   "id": "7b3cac34",
   "metadata": {
    "execution": {
     "iopub.execute_input": "2024-03-14T17:55:16.998997Z",
     "iopub.status.busy": "2024-03-14T17:55:16.998328Z",
     "iopub.status.idle": "2024-03-14T17:55:17.027298Z",
     "shell.execute_reply": "2024-03-14T17:55:17.025826Z"
    },
    "papermill": {
     "duration": 0.037505,
     "end_time": "2024-03-14T17:55:17.029820",
     "exception": false,
     "start_time": "2024-03-14T17:55:16.992315",
     "status": "completed"
    },
    "tags": []
   },
   "outputs": [
    {
     "name": "stdout",
     "output_type": "stream",
     "text": [
      "<class 'pandas.core.frame.DataFrame'>\n",
      "RangeIndex: 506 entries, 0 to 505\n",
      "Data columns (total 14 columns):\n",
      " #   Column   Non-Null Count  Dtype  \n",
      "---  ------   --------------  -----  \n",
      " 0   CRIM     506 non-null    float64\n",
      " 1   ZN       506 non-null    float64\n",
      " 2   INDUS    506 non-null    float64\n",
      " 3   CHAS     506 non-null    int64  \n",
      " 4   NOX      506 non-null    float64\n",
      " 5   RM       506 non-null    float64\n",
      " 6   AGE      506 non-null    float64\n",
      " 7   DIS      506 non-null    float64\n",
      " 8   RAD      506 non-null    int64  \n",
      " 9   TAX      506 non-null    float64\n",
      " 10  PTRATIO  506 non-null    float64\n",
      " 11  B        506 non-null    float64\n",
      " 12  LSTAT    506 non-null    float64\n",
      " 13  MEDV     506 non-null    float64\n",
      "dtypes: float64(12), int64(2)\n",
      "memory usage: 55.5 KB\n"
     ]
    }
   ],
   "source": [
    "df.info()"
   ]
  },
  {
   "cell_type": "code",
   "execution_count": 4,
   "id": "7b784967",
   "metadata": {
    "execution": {
     "iopub.execute_input": "2024-03-14T17:55:17.041544Z",
     "iopub.status.busy": "2024-03-14T17:55:17.041185Z",
     "iopub.status.idle": "2024-03-14T17:55:17.078731Z",
     "shell.execute_reply": "2024-03-14T17:55:17.077674Z"
    },
    "papermill": {
     "duration": 0.047049,
     "end_time": "2024-03-14T17:55:17.081662",
     "exception": false,
     "start_time": "2024-03-14T17:55:17.034613",
     "status": "completed"
    },
    "tags": []
   },
   "outputs": [
    {
     "name": "stdout",
     "output_type": "stream",
     "text": [
      "         count        mean         std        min         25%        50%  \\\n",
      "CRIM     506.0    3.613524    8.601545    0.00632    0.082045    0.25651   \n",
      "ZN       506.0   11.363636   23.322453    0.00000    0.000000    0.00000   \n",
      "INDUS    506.0   11.136779    6.860353    0.46000    5.190000    9.69000   \n",
      "CHAS     506.0    0.069170    0.253994    0.00000    0.000000    0.00000   \n",
      "NOX      506.0    0.554695    0.115878    0.38500    0.449000    0.53800   \n",
      "RM       506.0    6.284634    0.702617    3.56100    5.885500    6.20850   \n",
      "AGE      506.0   68.574901   28.148861    2.90000   45.025000   77.50000   \n",
      "DIS      506.0    3.795043    2.105710    1.12960    2.100175    3.20745   \n",
      "RAD      506.0    9.549407    8.707259    1.00000    4.000000    5.00000   \n",
      "TAX      506.0  408.237154  168.537116  187.00000  279.000000  330.00000   \n",
      "PTRATIO  506.0   18.455534    2.164946   12.60000   17.400000   19.05000   \n",
      "B        506.0  356.674032   91.294864    0.32000  375.377500  391.44000   \n",
      "LSTAT    506.0   12.653063    7.141062    1.73000    6.950000   11.36000   \n",
      "MEDV     506.0   22.532806    9.197104    5.00000   17.025000   21.20000   \n",
      "\n",
      "                75%       max  \n",
      "CRIM       3.677083   88.9762  \n",
      "ZN        12.500000  100.0000  \n",
      "INDUS     18.100000   27.7400  \n",
      "CHAS       0.000000    1.0000  \n",
      "NOX        0.624000    0.8710  \n",
      "RM         6.623500    8.7800  \n",
      "AGE       94.075000  100.0000  \n",
      "DIS        5.188425   12.1265  \n",
      "RAD       24.000000   24.0000  \n",
      "TAX      666.000000  711.0000  \n",
      "PTRATIO   20.200000   22.0000  \n",
      "B        396.225000  396.9000  \n",
      "LSTAT     16.955000   37.9700  \n",
      "MEDV      25.000000   50.0000  \n"
     ]
    }
   ],
   "source": [
    "summary = df.describe()\n",
    "summary = summary.transpose()\n",
    "print(summary)"
   ]
  },
  {
   "cell_type": "code",
   "execution_count": 5,
   "id": "29d39bd7",
   "metadata": {
    "execution": {
     "iopub.execute_input": "2024-03-14T17:55:17.092911Z",
     "iopub.status.busy": "2024-03-14T17:55:17.092434Z",
     "iopub.status.idle": "2024-03-14T17:55:18.172655Z",
     "shell.execute_reply": "2024-03-14T17:55:18.171756Z"
    },
    "papermill": {
     "duration": 1.088651,
     "end_time": "2024-03-14T17:55:18.175174",
     "exception": false,
     "start_time": "2024-03-14T17:55:17.086523",
     "status": "completed"
    },
    "tags": []
   },
   "outputs": [],
   "source": [
    "from sklearn.preprocessing import MinMaxScaler"
   ]
  },
  {
   "cell_type": "code",
   "execution_count": 6,
   "id": "5d4f5d05",
   "metadata": {
    "execution": {
     "iopub.execute_input": "2024-03-14T17:55:18.186971Z",
     "iopub.status.busy": "2024-03-14T17:55:18.186275Z",
     "iopub.status.idle": "2024-03-14T17:55:18.230238Z",
     "shell.execute_reply": "2024-03-14T17:55:18.229069Z"
    },
    "papermill": {
     "duration": 0.052437,
     "end_time": "2024-03-14T17:55:18.232546",
     "exception": false,
     "start_time": "2024-03-14T17:55:18.180109",
     "status": "completed"
    },
    "tags": []
   },
   "outputs": [
    {
     "name": "stdout",
     "output_type": "stream",
     "text": [
      "MinMaxScaler()\n",
      "         count      mean       std  min       25%       50%       75%  max\n",
      "CRIM     506.0  0.040544  0.096679  0.0  0.000851  0.002812  0.041258  1.0\n",
      "ZN       506.0  0.113636  0.233225  0.0  0.000000  0.000000  0.125000  1.0\n",
      "INDUS    506.0  0.391378  0.251479  0.0  0.173387  0.338343  0.646628  1.0\n",
      "CHAS     506.0  0.069170  0.253994  0.0  0.000000  0.000000  0.000000  1.0\n",
      "NOX      506.0  0.349167  0.238431  0.0  0.131687  0.314815  0.491770  1.0\n",
      "RM       506.0  0.521869  0.134627  0.0  0.445392  0.507281  0.586798  1.0\n",
      "AGE      506.0  0.676364  0.289896  0.0  0.433831  0.768280  0.938980  1.0\n",
      "DIS      506.0  0.242381  0.191482  0.0  0.088259  0.188949  0.369088  1.0\n",
      "RAD      506.0  0.371713  0.378576  0.0  0.130435  0.173913  1.000000  1.0\n",
      "TAX      506.0  0.422208  0.321636  0.0  0.175573  0.272901  0.914122  1.0\n",
      "PTRATIO  506.0  0.622929  0.230313  0.0  0.510638  0.686170  0.808511  1.0\n",
      "B        506.0  0.898568  0.230205  0.0  0.945730  0.986232  0.998298  1.0\n",
      "LSTAT    506.0  0.301409  0.197049  0.0  0.144040  0.265728  0.420116  1.0\n",
      "MEDV     506.0  0.389618  0.204380  0.0  0.267222  0.360000  0.444444  1.0\n"
     ]
    }
   ],
   "source": [
    "scalar = MinMaxScaler()\n",
    "print(scalar.fit(df))\n",
    "DataScaled = scalar.fit_transform(df)\n",
    "DataScaled = pd.DataFrame(DataScaled, columns= BHname)\n",
    "\n",
    "summary = DataScaled.describe()\n",
    "summary = summary.transpose()\n",
    "print(summary)"
   ]
  },
  {
   "cell_type": "code",
   "execution_count": 7,
   "id": "ded8c70f",
   "metadata": {
    "execution": {
     "iopub.execute_input": "2024-03-14T17:55:18.245061Z",
     "iopub.status.busy": "2024-03-14T17:55:18.243992Z",
     "iopub.status.idle": "2024-03-14T17:55:18.732839Z",
     "shell.execute_reply": "2024-03-14T17:55:18.731348Z"
    },
    "papermill": {
     "duration": 0.497831,
     "end_time": "2024-03-14T17:55:18.735592",
     "exception": false,
     "start_time": "2024-03-14T17:55:18.237761",
     "status": "completed"
    },
    "tags": []
   },
   "outputs": [
    {
     "data": {
      "image/png": "[encoded data removed]",
      "text/plain": [
       "<Figure size 640x480 with 1 Axes>"
      ]
     },
     "metadata": {},
     "output_type": "display_data"
    },
    {
     "name": "stdout",
     "output_type": "stream",
     "text": [
      "             CRIM        ZN     INDUS      CHAS       NOX        RM       AGE  \\\n",
      "CRIM     1.000000 -0.200469  0.406583 -0.055892  0.420972 -0.219247  0.352734   \n",
      "ZN      -0.200469  1.000000 -0.533828 -0.042697 -0.516604  0.311991 -0.569537   \n",
      "INDUS    0.406583 -0.533828  1.000000  0.062938  0.763651 -0.391676  0.644779   \n",
      "CHAS    -0.055892 -0.042697  0.062938  1.000000  0.091203  0.091251  0.086518   \n",
      "NOX      0.420972 -0.516604  0.763651  0.091203  1.000000 -0.302188  0.731470   \n",
      "RM      -0.219247  0.311991 -0.391676  0.091251 -0.302188  1.000000 -0.240265   \n",
      "AGE      0.352734 -0.569537  0.644779  0.086518  0.731470 -0.240265  1.000000   \n",
      "DIS     -0.379670  0.664408 -0.708027 -0.099176 -0.769230  0.205246 -0.747881   \n",
      "RAD      0.625505 -0.311948  0.595129 -0.007368  0.611441 -0.209847  0.456022   \n",
      "TAX      0.582764 -0.314563  0.720760 -0.035587  0.668023 -0.292048  0.506456   \n",
      "PTRATIO  0.289946 -0.391679  0.383248 -0.121515  0.188933 -0.355501  0.261515   \n",
      "B       -0.385064  0.175520 -0.356977  0.048788 -0.380051  0.128069 -0.273534   \n",
      "LSTAT    0.455621 -0.412995  0.603800 -0.053929  0.590879 -0.613808  0.602339   \n",
      "MEDV    -0.388305  0.360445 -0.483725  0.175260 -0.427321  0.695360 -0.376955   \n",
      "\n",
      "              DIS       RAD       TAX   PTRATIO         B     LSTAT      MEDV  \n",
      "CRIM    -0.379670  0.625505  0.582764  0.289946 -0.385064  0.455621 -0.388305  \n",
      "ZN       0.664408 -0.311948 -0.314563 -0.391679  0.175520 -0.412995  0.360445  \n",
      "INDUS   -0.708027  0.595129  0.720760  0.383248 -0.356977  0.603800 -0.483725  \n",
      "CHAS    -0.099176 -0.007368 -0.035587 -0.121515  0.048788 -0.053929  0.175260  \n",
      "NOX     -0.769230  0.611441  0.668023  0.188933 -0.380051  0.590879 -0.427321  \n",
      "RM       0.205246 -0.209847 -0.292048 -0.355501  0.128069 -0.613808  0.695360  \n",
      "AGE     -0.747881  0.456022  0.506456  0.261515 -0.273534  0.602339 -0.376955  \n",
      "DIS      1.000000 -0.494588 -0.534432 -0.232471  0.291512 -0.496996  0.249929  \n",
      "RAD     -0.494588  1.000000  0.910228  0.464741 -0.444413  0.488676 -0.381626  \n",
      "TAX     -0.534432  0.910228  1.000000  0.460853 -0.441808  0.543993 -0.468536  \n",
      "PTRATIO -0.232471  0.464741  0.460853  1.000000 -0.177383  0.374044 -0.507787  \n",
      "B        0.291512 -0.444413 -0.441808 -0.177383  1.000000 -0.366087  0.333461  \n",
      "LSTAT   -0.496996  0.488676  0.543993  0.374044 -0.366087  1.000000 -0.737663  \n",
      "MEDV     0.249929 -0.381626 -0.468536 -0.507787  0.333461 -0.737663  1.000000  \n"
     ]
    }
   ],
   "source": [
    "import matplotlib.pyplot as plt\n",
    "boxplot = DataScaled.boxplot(column= BHname)\n",
    "plt.show()\n",
    "\n",
    "cordata = DataScaled.corr(method=\"pearson\")\n",
    "with pd.option_context(\"display.max_rows\", None, \"display.max_column\", cordata.shape[1]):\n",
    "  print(cordata)"
   ]
  },
  {
   "cell_type": "code",
   "execution_count": 8,
   "id": "fbf26ab8",
   "metadata": {
    "execution": {
     "iopub.execute_input": "2024-03-14T17:55:18.748693Z",
     "iopub.status.busy": "2024-03-14T17:55:18.748279Z",
     "iopub.status.idle": "2024-03-14T17:55:19.270358Z",
     "shell.execute_reply": "2024-03-14T17:55:19.269148Z"
    },
    "papermill": {
     "duration": 0.531359,
     "end_time": "2024-03-14T17:55:19.272761",
     "exception": false,
     "start_time": "2024-03-14T17:55:18.741402",
     "status": "completed"
    },
    "tags": []
   },
   "outputs": [
    {
     "data": {
      "image/png": "[encoded data removed]",
      "text/plain": [
       "<Figure size 480x480 with 2 Axes>"
      ]
     },
     "metadata": {},
     "output_type": "display_data"
    }
   ],
   "source": [
    "plt.matshow(cordata)\n",
    "plt.xticks(range(len(cordata.columns)), cordata.columns)\n",
    "plt.yticks(range(len(cordata.columns)), cordata.columns)\n",
    "plt.colorbar()\n",
    "plt.show()"
   ]
  },
  {
   "cell_type": "code",
   "execution_count": 9,
   "id": "a4605c46",
   "metadata": {
    "execution": {
     "iopub.execute_input": "2024-03-14T17:55:19.287224Z",
     "iopub.status.busy": "2024-03-14T17:55:19.286784Z",
     "iopub.status.idle": "2024-03-14T17:55:19.392053Z",
     "shell.execute_reply": "2024-03-14T17:55:19.390929Z"
    },
    "papermill": {
     "duration": 0.11515,
     "end_time": "2024-03-14T17:55:19.394452",
     "exception": false,
     "start_time": "2024-03-14T17:55:19.279302",
     "status": "completed"
    },
    "tags": []
   },
   "outputs": [
    {
     "name": "stdout",
     "output_type": "stream",
     "text": [
      "X Shape=  (506, 13)\n",
      "Y shape=  (506,)\n",
      "X train Shape (354, 13)\n",
      "X test Shape (152, 13)\n",
      "Y train Shape (354,)\n",
      "Y test Shape (152,)\n"
     ]
    }
   ],
   "source": [
    "from sklearn.model_selection import train_test_split\n",
    "\n",
    "X = DataScaled.drop('MEDV', axis = 1)\n",
    "print(\"X Shape= \", X.shape)\n",
    "Y = DataScaled['MEDV']\n",
    "print('Y shape= ', Y.shape)\n",
    "\n",
    "X_train, X_test,Y_train, Y_test = train_test_split(X, Y, test_size= 0.30, random_state=5)\n",
    "print(\"X train Shape\", X_train.shape)\n",
    "print(\"X test Shape\", X_test.shape)\n",
    "print(\"Y train Shape\", Y_train.shape)\n",
    "print(\"Y test Shape\", Y_test.shape)"
   ]
  },
  {
   "cell_type": "code",
   "execution_count": 10,
   "id": "d41b43b4",
   "metadata": {
    "execution": {
     "iopub.execute_input": "2024-03-14T17:55:19.409589Z",
     "iopub.status.busy": "2024-03-14T17:55:19.408638Z",
     "iopub.status.idle": "2024-03-14T17:55:32.234522Z",
     "shell.execute_reply": "2024-03-14T17:55:32.233194Z"
    },
    "papermill": {
     "duration": 12.836222,
     "end_time": "2024-03-14T17:55:32.237277",
     "exception": false,
     "start_time": "2024-03-14T17:55:19.401055",
     "status": "completed"
    },
    "tags": []
   },
   "outputs": [
    {
     "name": "stderr",
     "output_type": "stream",
     "text": [
      "2024-03-14 17:55:21.494895: E external/local_xla/xla/stream_executor/cuda/cuda_dnn.cc:9261] Unable to register cuDNN factory: Attempting to register factory for plugin cuDNN when one has already been registered\n",
      "2024-03-14 17:55:21.495042: E external/local_xla/xla/stream_executor/cuda/cuda_fft.cc:607] Unable to register cuFFT factory: Attempting to register factory for plugin cuFFT when one has already been registered\n",
      "2024-03-14 17:55:21.641918: E external/local_xla/xla/stream_executor/cuda/cuda_blas.cc:1515] Unable to register cuBLAS factory: Attempting to register factory for plugin cuBLAS when one has already been registered\n"
     ]
    }
   ],
   "source": [
    "import keras\n",
    "from keras.models import Sequential\n",
    "from keras.layers import Dense"
   ]
  },
  {
   "cell_type": "code",
   "execution_count": 11,
   "id": "86c91931",
   "metadata": {
    "execution": {
     "iopub.execute_input": "2024-03-14T17:55:32.266516Z",
     "iopub.status.busy": "2024-03-14T17:55:32.265521Z",
     "iopub.status.idle": "2024-03-14T17:55:32.368139Z",
     "shell.execute_reply": "2024-03-14T17:55:32.366716Z"
    },
    "papermill": {
     "duration": 0.113968,
     "end_time": "2024-03-14T17:55:32.370581",
     "exception": false,
     "start_time": "2024-03-14T17:55:32.256613",
     "status": "completed"
    },
    "tags": []
   },
   "outputs": [
    {
     "name": "stderr",
     "output_type": "stream",
     "text": [
      "/opt/conda/lib/python3.10/site-packages/keras/src/layers/core/dense.py:85: UserWarning: Do not pass an `input_shape`/`input_dim` argument to a layer. When using Sequential models, prefer using an `Input(shape)` object as the first layer in the model instead.\n",
      "  super().__init__(activity_regularizer=activity_regularizer, **kwargs)\n"
     ]
    }
   ],
   "source": [
    "from keras.optimizers import Optimizer\n",
    "model = Sequential()\n",
    "# first input and first Hidden Layer\n",
    "model.add(Dense(20, input_dim=13, activation='relu'))\n",
    "# Second Hidden Layer\n",
    "model.add(Dense(10, activation='relu'))\n",
    "# Output Layer\n",
    "model.add(Dense(1, activation='linear'))\n",
    "# Compile ANN\n",
    "model.compile(optimizer='Adam', loss='mean_squared_error', metrics=['accuracy'])"
   ]
  },
  {
   "cell_type": "code",
   "execution_count": 12,
   "id": "c5e5c615",
   "metadata": {
    "execution": {
     "iopub.execute_input": "2024-03-14T17:55:32.385452Z",
     "iopub.status.busy": "2024-03-14T17:55:32.385014Z",
     "iopub.status.idle": "2024-03-14T17:55:36.225789Z",
     "shell.execute_reply": "2024-03-14T17:55:36.224623Z"
    },
    "papermill": {
     "duration": 3.850873,
     "end_time": "2024-03-14T17:55:36.228129",
     "exception": false,
     "start_time": "2024-03-14T17:55:32.377256",
     "status": "completed"
    },
    "tags": []
   },
   "outputs": [
    {
     "name": "stdout",
     "output_type": "stream",
     "text": [
      "Epoch 1/50\n",
      "\u001b[1m12/12\u001b[0m \u001b[32m━━━━━━━━━━━━━━━━━━━━\u001b[0m\u001b[37m\u001b[0m \u001b[1m1s\u001b[0m 2ms/step - accuracy: 0.0024 - loss: 0.1321    \n",
      "Epoch 2/50\n",
      "\u001b[1m12/12\u001b[0m \u001b[32m━━━━━━━━━━━━━━━━━━━━\u001b[0m\u001b[37m\u001b[0m \u001b[1m0s\u001b[0m 2ms/step - accuracy: 0.0036 - loss: 0.0680     \n",
      "Epoch 3/50\n",
      "\u001b[1m12/12\u001b[0m \u001b[32m━━━━━━━━━━━━━━━━━━━━\u001b[0m\u001b[37m\u001b[0m \u001b[1m0s\u001b[0m 2ms/step - accuracy: 0.0060 - loss: 0.0369     \n",
      "Epoch 4/50\n",
      "\u001b[1m12/12\u001b[0m \u001b[32m━━━━━━━━━━━━━━━━━━━━\u001b[0m\u001b[37m\u001b[0m \u001b[1m0s\u001b[0m 2ms/step - accuracy: 0.0027 - loss: 0.0370     \n",
      "Epoch 5/50\n",
      "\u001b[1m12/12\u001b[0m \u001b[32m━━━━━━━━━━━━━━━━━━━━\u001b[0m\u001b[37m\u001b[0m \u001b[1m0s\u001b[0m 2ms/step - accuracy: 0.0049 - loss: 0.0303     \n",
      "Epoch 6/50\n",
      "\u001b[1m12/12\u001b[0m \u001b[32m━━━━━━━━━━━━━━━━━━━━\u001b[0m\u001b[37m\u001b[0m \u001b[1m0s\u001b[0m 2ms/step - accuracy: 0.0108 - loss: 0.0280 \n",
      "Epoch 7/50\n",
      "\u001b[1m12/12\u001b[0m \u001b[32m━━━━━━━━━━━━━━━━━━━━\u001b[0m\u001b[37m\u001b[0m \u001b[1m0s\u001b[0m 2ms/step - accuracy: 0.0059 - loss: 0.0280     \n",
      "Epoch 8/50\n",
      "\u001b[1m12/12\u001b[0m \u001b[32m━━━━━━━━━━━━━━━━━━━━\u001b[0m\u001b[37m\u001b[0m \u001b[1m0s\u001b[0m 2ms/step - accuracy: 0.0118 - loss: 0.0250     \n",
      "Epoch 9/50\n",
      "\u001b[1m12/12\u001b[0m \u001b[32m━━━━━━━━━━━━━━━━━━━━\u001b[0m\u001b[37m\u001b[0m \u001b[1m0s\u001b[0m 2ms/step - accuracy: 0.0057 - loss: 0.0224     \n",
      "Epoch 10/50\n",
      "\u001b[1m12/12\u001b[0m \u001b[32m━━━━━━━━━━━━━━━━━━━━\u001b[0m\u001b[37m\u001b[0m \u001b[1m0s\u001b[0m 2ms/step - accuracy: 0.0156 - loss: 0.0257 \n",
      "Epoch 11/50\n",
      "\u001b[1m12/12\u001b[0m \u001b[32m━━━━━━━━━━━━━━━━━━━━\u001b[0m\u001b[37m\u001b[0m \u001b[1m0s\u001b[0m 2ms/step - accuracy: 0.0178 - loss: 0.0231 \n",
      "Epoch 12/50\n",
      "\u001b[1m12/12\u001b[0m \u001b[32m━━━━━━━━━━━━━━━━━━━━\u001b[0m\u001b[37m\u001b[0m \u001b[1m0s\u001b[0m 2ms/step - accuracy: 0.0059 - loss: 0.0222     \n",
      "Epoch 13/50\n",
      "\u001b[1m12/12\u001b[0m \u001b[32m━━━━━━━━━━━━━━━━━━━━\u001b[0m\u001b[37m\u001b[0m \u001b[1m0s\u001b[0m 2ms/step - accuracy: 0.0230 - loss: 0.0251 \n",
      "Epoch 14/50\n",
      "\u001b[1m12/12\u001b[0m \u001b[32m━━━━━━━━━━━━━━━━━━━━\u001b[0m\u001b[37m\u001b[0m \u001b[1m0s\u001b[0m 2ms/step - accuracy: 0.0168 - loss: 0.0217     \n",
      "Epoch 15/50\n",
      "\u001b[1m12/12\u001b[0m \u001b[32m━━━━━━━━━━━━━━━━━━━━\u001b[0m\u001b[37m\u001b[0m \u001b[1m0s\u001b[0m 2ms/step - accuracy: 0.0092 - loss: 0.0204     \n",
      "Epoch 16/50\n",
      "\u001b[1m12/12\u001b[0m \u001b[32m━━━━━━━━━━━━━━━━━━━━\u001b[0m\u001b[37m\u001b[0m \u001b[1m0s\u001b[0m 2ms/step - accuracy: 0.0148 - loss: 0.0183     \n",
      "Epoch 17/50\n",
      "\u001b[1m12/12\u001b[0m \u001b[32m━━━━━━━━━━━━━━━━━━━━\u001b[0m\u001b[37m\u001b[0m \u001b[1m0s\u001b[0m 2ms/step - accuracy: 0.0186 - loss: 0.0195     \n",
      "Epoch 18/50\n",
      "\u001b[1m12/12\u001b[0m \u001b[32m━━━━━━━━━━━━━━━━━━━━\u001b[0m\u001b[37m\u001b[0m \u001b[1m0s\u001b[0m 2ms/step - accuracy: 0.0241 - loss: 0.0214 \n",
      "Epoch 19/50\n",
      "\u001b[1m12/12\u001b[0m \u001b[32m━━━━━━━━━━━━━━━━━━━━\u001b[0m\u001b[37m\u001b[0m \u001b[1m0s\u001b[0m 2ms/step - accuracy: 0.0322 - loss: 0.0171 \n",
      "Epoch 20/50\n",
      "\u001b[1m12/12\u001b[0m \u001b[32m━━━━━━━━━━━━━━━━━━━━\u001b[0m\u001b[37m\u001b[0m \u001b[1m0s\u001b[0m 2ms/step - accuracy: 0.0188 - loss: 0.0174     \n",
      "Epoch 21/50\n",
      "\u001b[1m12/12\u001b[0m \u001b[32m━━━━━━━━━━━━━━━━━━━━\u001b[0m\u001b[37m\u001b[0m \u001b[1m0s\u001b[0m 2ms/step - accuracy: 0.0190 - loss: 0.0163     \n",
      "Epoch 22/50\n",
      "\u001b[1m12/12\u001b[0m \u001b[32m━━━━━━━━━━━━━━━━━━━━\u001b[0m\u001b[37m\u001b[0m \u001b[1m0s\u001b[0m 2ms/step - accuracy: 0.0173 - loss: 0.0142     \n",
      "Epoch 23/50\n",
      "\u001b[1m12/12\u001b[0m \u001b[32m━━━━━━━━━━━━━━━━━━━━\u001b[0m\u001b[37m\u001b[0m \u001b[1m0s\u001b[0m 2ms/step - accuracy: 0.0309 - loss: 0.0160 \n",
      "Epoch 24/50\n",
      "\u001b[1m12/12\u001b[0m \u001b[32m━━━━━━━━━━━━━━━━━━━━\u001b[0m\u001b[37m\u001b[0m \u001b[1m0s\u001b[0m 2ms/step - accuracy: 0.0199 - loss: 0.0144     \n",
      "Epoch 25/50\n",
      "\u001b[1m12/12\u001b[0m \u001b[32m━━━━━━━━━━━━━━━━━━━━\u001b[0m\u001b[37m\u001b[0m \u001b[1m0s\u001b[0m 2ms/step - accuracy: 0.0138 - loss: 0.0126     \n",
      "Epoch 26/50\n",
      "\u001b[1m12/12\u001b[0m \u001b[32m━━━━━━━━━━━━━━━━━━━━\u001b[0m\u001b[37m\u001b[0m \u001b[1m0s\u001b[0m 2ms/step - accuracy: 0.0224 - loss: 0.0129     \n",
      "Epoch 27/50\n",
      "\u001b[1m12/12\u001b[0m \u001b[32m━━━━━━━━━━━━━━━━━━━━\u001b[0m\u001b[37m\u001b[0m \u001b[1m0s\u001b[0m 2ms/step - accuracy: 0.0157 - loss: 0.0141     \n",
      "Epoch 28/50\n",
      "\u001b[1m12/12\u001b[0m \u001b[32m━━━━━━━━━━━━━━━━━━━━\u001b[0m\u001b[37m\u001b[0m \u001b[1m0s\u001b[0m 2ms/step - accuracy: 0.0204 - loss: 0.0116 \n",
      "Epoch 29/50\n",
      "\u001b[1m12/12\u001b[0m \u001b[32m━━━━━━━━━━━━━━━━━━━━\u001b[0m\u001b[37m\u001b[0m \u001b[1m0s\u001b[0m 2ms/step - accuracy: 0.0192 - loss: 0.0147     \n",
      "Epoch 30/50\n",
      "\u001b[1m12/12\u001b[0m \u001b[32m━━━━━━━━━━━━━━━━━━━━\u001b[0m\u001b[37m\u001b[0m \u001b[1m0s\u001b[0m 2ms/step - accuracy: 0.0281 - loss: 0.0117 \n",
      "Epoch 31/50\n",
      "\u001b[1m12/12\u001b[0m \u001b[32m━━━━━━━━━━━━━━━━━━━━\u001b[0m\u001b[37m\u001b[0m \u001b[1m0s\u001b[0m 2ms/step - accuracy: 0.0232 - loss: 0.0108 \n",
      "Epoch 32/50\n",
      "\u001b[1m12/12\u001b[0m \u001b[32m━━━━━━━━━━━━━━━━━━━━\u001b[0m\u001b[37m\u001b[0m \u001b[1m0s\u001b[0m 2ms/step - accuracy: 0.0239 - loss: 0.0114     \n",
      "Epoch 33/50\n",
      "\u001b[1m12/12\u001b[0m \u001b[32m━━━━━━━━━━━━━━━━━━━━\u001b[0m\u001b[37m\u001b[0m \u001b[1m0s\u001b[0m 2ms/step - accuracy: 0.0270 - loss: 0.0107 \n",
      "Epoch 34/50\n",
      "\u001b[1m12/12\u001b[0m \u001b[32m━━━━━━━━━━━━━━━━━━━━\u001b[0m\u001b[37m\u001b[0m \u001b[1m0s\u001b[0m 2ms/step - accuracy: 0.0279 - loss: 0.0137 \n",
      "Epoch 35/50\n",
      "\u001b[1m12/12\u001b[0m \u001b[32m━━━━━━━━━━━━━━━━━━━━\u001b[0m\u001b[37m\u001b[0m \u001b[1m0s\u001b[0m 2ms/step - accuracy: 0.0188 - loss: 0.0120     \n",
      "Epoch 36/50\n",
      "\u001b[1m12/12\u001b[0m \u001b[32m━━━━━━━━━━━━━━━━━━━━\u001b[0m\u001b[37m\u001b[0m \u001b[1m0s\u001b[0m 2ms/step - accuracy: 0.0272 - loss: 0.0114 \n",
      "Epoch 37/50\n",
      "\u001b[1m12/12\u001b[0m \u001b[32m━━━━━━━━━━━━━━━━━━━━\u001b[0m\u001b[37m\u001b[0m \u001b[1m0s\u001b[0m 2ms/step - accuracy: 0.0311 - loss: 0.0098 \n",
      "Epoch 38/50\n",
      "\u001b[1m12/12\u001b[0m \u001b[32m━━━━━━━━━━━━━━━━━━━━\u001b[0m\u001b[37m\u001b[0m \u001b[1m0s\u001b[0m 2ms/step - accuracy: 0.0196 - loss: 0.0096     \n",
      "Epoch 39/50\n",
      "\u001b[1m12/12\u001b[0m \u001b[32m━━━━━━━━━━━━━━━━━━━━\u001b[0m\u001b[37m\u001b[0m \u001b[1m0s\u001b[0m 2ms/step - accuracy: 0.0339 - loss: 0.0117 \n",
      "Epoch 40/50\n",
      "\u001b[1m12/12\u001b[0m \u001b[32m━━━━━━━━━━━━━━━━━━━━\u001b[0m\u001b[37m\u001b[0m \u001b[1m0s\u001b[0m 2ms/step - accuracy: 0.0222 - loss: 0.0099     \n",
      "Epoch 41/50\n",
      "\u001b[1m12/12\u001b[0m \u001b[32m━━━━━━━━━━━━━━━━━━━━\u001b[0m\u001b[37m\u001b[0m \u001b[1m0s\u001b[0m 2ms/step - accuracy: 0.0267 - loss: 0.0106     \n",
      "Epoch 42/50\n",
      "\u001b[1m12/12\u001b[0m \u001b[32m━━━━━━━━━━━━━━━━━━━━\u001b[0m\u001b[37m\u001b[0m \u001b[1m0s\u001b[0m 2ms/step - accuracy: 0.0270 - loss: 0.0097 \n",
      "Epoch 43/50\n",
      "\u001b[1m12/12\u001b[0m \u001b[32m━━━━━━━━━━━━━━━━━━━━\u001b[0m\u001b[37m\u001b[0m \u001b[1m0s\u001b[0m 2ms/step - accuracy: 0.0211 - loss: 0.0088     \n",
      "Epoch 44/50\n",
      "\u001b[1m12/12\u001b[0m \u001b[32m━━━━━━━━━━━━━━━━━━━━\u001b[0m\u001b[37m\u001b[0m \u001b[1m0s\u001b[0m 2ms/step - accuracy: 0.0253 - loss: 0.0091 \n",
      "Epoch 45/50\n",
      "\u001b[1m12/12\u001b[0m \u001b[32m━━━━━━━━━━━━━━━━━━━━\u001b[0m\u001b[37m\u001b[0m \u001b[1m0s\u001b[0m 2ms/step - accuracy: 0.0215 - loss: 0.0083     \n",
      "Epoch 46/50\n",
      "\u001b[1m12/12\u001b[0m \u001b[32m━━━━━━━━━━━━━━━━━━━━\u001b[0m\u001b[37m\u001b[0m \u001b[1m0s\u001b[0m 2ms/step - accuracy: 0.0180 - loss: 0.0105     \n",
      "Epoch 47/50\n",
      "\u001b[1m12/12\u001b[0m \u001b[32m━━━━━━━━━━━━━━━━━━━━\u001b[0m\u001b[37m\u001b[0m \u001b[1m0s\u001b[0m 2ms/step - accuracy: 0.0188 - loss: 0.0080     \n",
      "Epoch 48/50\n",
      "\u001b[1m12/12\u001b[0m \u001b[32m━━━━━━━━━━━━━━━━━━━━\u001b[0m\u001b[37m\u001b[0m \u001b[1m0s\u001b[0m 2ms/step - accuracy: 0.0284 - loss: 0.0082 \n",
      "Epoch 49/50\n",
      "\u001b[1m12/12\u001b[0m \u001b[32m━━━━━━━━━━━━━━━━━━━━\u001b[0m\u001b[37m\u001b[0m \u001b[1m0s\u001b[0m 2ms/step - accuracy: 0.0141 - loss: 0.0078     \n",
      "Epoch 50/50\n",
      "\u001b[1m12/12\u001b[0m \u001b[32m━━━━━━━━━━━━━━━━━━━━\u001b[0m\u001b[37m\u001b[0m \u001b[1m0s\u001b[0m 2ms/step - accuracy: 0.0294 - loss: 0.0079 \n"
     ]
    },
    {
     "data": {
      "text/plain": [
       "<keras.src.callbacks.history.History at 0x7c4892b277c0>"
      ]
     },
     "execution_count": 12,
     "metadata": {},
     "output_type": "execute_result"
    }
   ],
   "source": [
    "# Fit & display summary\n",
    "model.fit(X_train, Y_train, epochs=50, verbose=1)"
   ]
  },
  {
   "cell_type": "code",
   "execution_count": 13,
   "id": "23206d5e",
   "metadata": {
    "execution": {
     "iopub.execute_input": "2024-03-14T17:55:36.263966Z",
     "iopub.status.busy": "2024-03-14T17:55:36.263578Z",
     "iopub.status.idle": "2024-03-14T17:55:36.287093Z",
     "shell.execute_reply": "2024-03-14T17:55:36.286010Z"
    },
    "papermill": {
     "duration": 0.044351,
     "end_time": "2024-03-14T17:55:36.289750",
     "exception": false,
     "start_time": "2024-03-14T17:55:36.245399",
     "status": "completed"
    },
    "tags": []
   },
   "outputs": [
    {
     "data": {
      "text/html": [
       "<pre style=\"white-space:pre;overflow-x:auto;line-height:normal;font-family:Menlo,'DejaVu Sans Mono',consolas,'Courier New',monospace\"><span style=\"font-weight: bold\">Model: \"sequential\"</span>\n",
       "</pre>\n"
      ],
      "text/plain": [
       "\u001b[1mModel: \"sequential\"\u001b[0m\n"
      ]
     },
     "metadata": {},
     "output_type": "display_data"
    },
    {
     "data": {
      "text/html": [
       "<pre style=\"white-space:pre;overflow-x:auto;line-height:normal;font-family:Menlo,'DejaVu Sans Mono',consolas,'Courier New',monospace\">┏━━━━━━━━━━━━━━━━━━━━━━━━━━━━━━━━━┳━━━━━━━━━━━━━━━━━━━━━━━━┳━━━━━━━━━━━━━━━┓\n",
       "┃<span style=\"font-weight: bold\"> Layer (type)                    </span>┃<span style=\"font-weight: bold\"> Output Shape           </span>┃<span style=\"font-weight: bold\">       Param # </span>┃\n",
       "┡━━━━━━━━━━━━━━━━━━━━━━━━━━━━━━━━━╇━━━━━━━━━━━━━━━━━━━━━━━━╇━━━━━━━━━━━━━━━┩\n",
       "│ dense (<span style=\"color: #0087ff; text-decoration-color: #0087ff\">Dense</span>)                   │ (<span style=\"color: #00d7ff; text-decoration-color: #00d7ff\">None</span>, <span style=\"color: #00af00; text-decoration-color: #00af00\">20</span>)             │           <span style=\"color: #00af00; text-decoration-color: #00af00\">280</span> │\n",
       "├─────────────────────────────────┼────────────────────────┼───────────────┤\n",
       "│ dense_1 (<span style=\"color: #0087ff; text-decoration-color: #0087ff\">Dense</span>)                 │ (<span style=\"color: #00d7ff; text-decoration-color: #00d7ff\">None</span>, <span style=\"color: #00af00; text-decoration-color: #00af00\">10</span>)             │           <span style=\"color: #00af00; text-decoration-color: #00af00\">210</span> │\n",
       "├─────────────────────────────────┼────────────────────────┼───────────────┤\n",
       "│ dense_2 (<span style=\"color: #0087ff; text-decoration-color: #0087ff\">Dense</span>)                 │ (<span style=\"color: #00d7ff; text-decoration-color: #00d7ff\">None</span>, <span style=\"color: #00af00; text-decoration-color: #00af00\">1</span>)              │            <span style=\"color: #00af00; text-decoration-color: #00af00\">11</span> │\n",
       "└─────────────────────────────────┴────────────────────────┴───────────────┘\n",
       "</pre>\n"
      ],
      "text/plain": [
       "┏━━━━━━━━━━━━━━━━━━━━━━━━━━━━━━━━━┳━━━━━━━━━━━━━━━━━━━━━━━━┳━━━━━━━━━━━━━━━┓\n",
       "┃\u001b[1m \u001b[0m\u001b[1mLayer (type)                   \u001b[0m\u001b[1m \u001b[0m┃\u001b[1m \u001b[0m\u001b[1mOutput Shape          \u001b[0m\u001b[1m \u001b[0m┃\u001b[1m \u001b[0m\u001b[1m      Param #\u001b[0m\u001b[1m \u001b[0m┃\n",
       "┡━━━━━━━━━━━━━━━━━━━━━━━━━━━━━━━━━╇━━━━━━━━━━━━━━━━━━━━━━━━╇━━━━━━━━━━━━━━━┩\n",
       "│ dense (\u001b[38;5;33mDense\u001b[0m)                   │ (\u001b[38;5;45mNone\u001b[0m, \u001b[38;5;34m20\u001b[0m)             │           \u001b[38;5;34m280\u001b[0m │\n",
       "├─────────────────────────────────┼────────────────────────┼───────────────┤\n",
       "│ dense_1 (\u001b[38;5;33mDense\u001b[0m)                 │ (\u001b[38;5;45mNone\u001b[0m, \u001b[38;5;34m10\u001b[0m)             │           \u001b[38;5;34m210\u001b[0m │\n",
       "├─────────────────────────────────┼────────────────────────┼───────────────┤\n",
       "│ dense_2 (\u001b[38;5;33mDense\u001b[0m)                 │ (\u001b[38;5;45mNone\u001b[0m, \u001b[38;5;34m1\u001b[0m)              │            \u001b[38;5;34m11\u001b[0m │\n",
       "└─────────────────────────────────┴────────────────────────┴───────────────┘\n"
      ]
     },
     "metadata": {},
     "output_type": "display_data"
    },
    {
     "data": {
      "text/html": [
       "<pre style=\"white-space:pre;overflow-x:auto;line-height:normal;font-family:Menlo,'DejaVu Sans Mono',consolas,'Courier New',monospace\"><span style=\"font-weight: bold\"> Total params: </span><span style=\"color: #00af00; text-decoration-color: #00af00\">1,505</span> (5.88 KB)\n",
       "</pre>\n"
      ],
      "text/plain": [
       "\u001b[1m Total params: \u001b[0m\u001b[38;5;34m1,505\u001b[0m (5.88 KB)\n"
      ]
     },
     "metadata": {},
     "output_type": "display_data"
    },
    {
     "data": {
      "text/html": [
       "<pre style=\"white-space:pre;overflow-x:auto;line-height:normal;font-family:Menlo,'DejaVu Sans Mono',consolas,'Courier New',monospace\"><span style=\"font-weight: bold\"> Trainable params: </span><span style=\"color: #00af00; text-decoration-color: #00af00\">501</span> (1.96 KB)\n",
       "</pre>\n"
      ],
      "text/plain": [
       "\u001b[1m Trainable params: \u001b[0m\u001b[38;5;34m501\u001b[0m (1.96 KB)\n"
      ]
     },
     "metadata": {},
     "output_type": "display_data"
    },
    {
     "data": {
      "text/html": [
       "<pre style=\"white-space:pre;overflow-x:auto;line-height:normal;font-family:Menlo,'DejaVu Sans Mono',consolas,'Courier New',monospace\"><span style=\"font-weight: bold\"> Non-trainable params: </span><span style=\"color: #00af00; text-decoration-color: #00af00\">0</span> (0.00 B)\n",
       "</pre>\n"
      ],
      "text/plain": [
       "\u001b[1m Non-trainable params: \u001b[0m\u001b[38;5;34m0\u001b[0m (0.00 B)\n"
      ]
     },
     "metadata": {},
     "output_type": "display_data"
    },
    {
     "data": {
      "text/html": [
       "<pre style=\"white-space:pre;overflow-x:auto;line-height:normal;font-family:Menlo,'DejaVu Sans Mono',consolas,'Courier New',monospace\"><span style=\"font-weight: bold\"> Optimizer params: </span><span style=\"color: #00af00; text-decoration-color: #00af00\">1,004</span> (3.93 KB)\n",
       "</pre>\n"
      ],
      "text/plain": [
       "\u001b[1m Optimizer params: \u001b[0m\u001b[38;5;34m1,004\u001b[0m (3.93 KB)\n"
      ]
     },
     "metadata": {},
     "output_type": "display_data"
    }
   ],
   "source": [
    "model.summary()"
   ]
  },
  {
   "cell_type": "code",
   "execution_count": 14,
   "id": "cc5d0386",
   "metadata": {
    "execution": {
     "iopub.execute_input": "2024-03-14T17:55:36.325728Z",
     "iopub.status.busy": "2024-03-14T17:55:36.325339Z",
     "iopub.status.idle": "2024-03-14T17:55:36.676293Z",
     "shell.execute_reply": "2024-03-14T17:55:36.674966Z"
    },
    "papermill": {
     "duration": 0.372117,
     "end_time": "2024-03-14T17:55:36.678774",
     "exception": false,
     "start_time": "2024-03-14T17:55:36.306657",
     "status": "completed"
    },
    "tags": []
   },
   "outputs": [
    {
     "name": "stdout",
     "output_type": "stream",
     "text": [
      "\u001b[1m5/5\u001b[0m \u001b[32m━━━━━━━━━━━━━━━━━━━━\u001b[0m\u001b[37m\u001b[0m \u001b[1m0s\u001b[0m 10ms/step\n",
      "0.013032679446041584\n"
     ]
    }
   ],
   "source": [
    "# testing the test dataset\n",
    "Y_predKM = model.predict(X_test)\n",
    "score = model.evaluate(X_test, Y_test, verbose=0)\n",
    "print(score[0])"
   ]
  },
  {
   "cell_type": "code",
   "execution_count": 15,
   "id": "2d01dd54",
   "metadata": {
    "execution": {
     "iopub.execute_input": "2024-03-14T17:55:36.715472Z",
     "iopub.status.busy": "2024-03-14T17:55:36.715064Z",
     "iopub.status.idle": "2024-03-14T17:55:37.268660Z",
     "shell.execute_reply": "2024-03-14T17:55:37.267532Z"
    },
    "papermill": {
     "duration": 0.577198,
     "end_time": "2024-03-14T17:55:37.273158",
     "exception": false,
     "start_time": "2024-03-14T17:55:36.695960",
     "status": "completed"
    },
    "tags": []
   },
   "outputs": [
    {
     "data": {
      "image/png": "[encoded data removed]",
      "text/plain": [
       "<Figure size 640x480 with 2 Axes>"
      ]
     },
     "metadata": {},
     "output_type": "display_data"
    },
    {
     "name": "stdout",
     "output_type": "stream",
     "text": [
      "Linear Regression Model mse\n",
      "0.015159030964982022\n"
     ]
    }
   ],
   "source": [
    "# Multiple Linear Regression\n",
    "from sklearn.linear_model import LinearRegression\n",
    "LModel = LinearRegression()\n",
    "LModel.fit(X_train, Y_train)\n",
    "\n",
    "Y_predLM = LModel.predict(X_test)\n",
    "\n",
    "plt.figure(1)\n",
    "plt.subplot(121)\n",
    "plt.scatter(Y_test, Y_predLM)\n",
    "plt.xlabel(\"Actual Values\")\n",
    "plt.ylabel(\"Predicted Values\")\n",
    "plt.title(\"Keras Neural Network Model\")\n",
    "\n",
    "plt.subplot(122)\n",
    "plt.scatter(Y_test, Y_predKM)\n",
    "plt.xlabel(\"Actual Values\")\n",
    "plt.ylabel(\"predicted Values\")\n",
    "plt.title(\"Linear Regression Model\")\n",
    "plt.show()\n",
    "\n",
    "from sklearn.metrics import mean_squared_error\n",
    "mse = mean_squared_error(Y_test, Y_predLM)\n",
    "print(\"Linear Regression Model mse\")\n",
    "print(mse)"
   ]
  }
 ],
 "metadata": {
  "kaggle": {
   "accelerator": "none",
   "dataSources": [
    {
     "datasetId": 1815,
     "sourceId": 3139,
     "sourceType": "datasetVersion"
    }
   ],
   "dockerImageVersionId": 30664,
   "isGpuEnabled": false,
   "isInternetEnabled": true,
   "language": "python",
   "sourceType": "notebook"
  },
  "kernelspec": {
   "display_name": "Python 3",
   "language": "python",
   "name": "python3"
  },
  "language_info": {
   "codemirror_mode": {
    "name": "ipython",
    "version": 3
   },
   "file_extension": ".py",
   "mimetype": "text/x-python",
   "name": "python",
   "nbconvert_exporter": "python",
   "pygments_lexer": "ipython3",
   "version": "3.10.13"
  },
  "papermill": {
   "default_parameters": {},
   "duration": 25.586003,
   "end_time": "2024-03-14T17:55:38.916588",
   "environment_variables": {},
   "exception": null,
   "input_path": "__notebook__.ipynb",
   "output_path": "__notebook__.ipynb",
   "parameters": {},
   "start_time": "2024-03-14T17:55:13.330585",
   "version": "2.5.0"
  }
 },
 "nbformat": 4,
 "nbformat_minor": 5
}
